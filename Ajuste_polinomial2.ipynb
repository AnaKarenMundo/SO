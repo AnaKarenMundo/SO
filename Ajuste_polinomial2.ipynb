{
  "nbformat": 4,
  "nbformat_minor": 0,
  "metadata": {
    "colab": {
      "name": "Ajuste polinomial2.ipynb",
      "provenance": [],
      "authorship_tag": "ABX9TyOFmqrc5a2d3pYk/GPCxWlo",
      "include_colab_link": true
    },
    "kernelspec": {
      "name": "python3",
      "display_name": "Python 3"
    }
  },
  "cells": [
    {
      "cell_type": "markdown",
      "metadata": {
        "id": "view-in-github",
        "colab_type": "text"
      },
      "source": [
        "<a href=\"https://colab.research.google.com/github/AnaKarenMundo/SO/blob/master/Ajuste_polinomial2.ipynb\" target=\"_parent\"><img src=\"https://colab.research.google.com/assets/colab-badge.svg\" alt=\"Open In Colab\"/></a>"
      ]
    },
    {
      "cell_type": "code",
      "metadata": {
        "id": "OxCEll4u6yh_",
        "colab_type": "code",
        "colab": {}
      },
      "source": [
        "import numpy as np\n",
        "\n",
        "def polyfit2(x,y,n):\n",
        "\n",
        "\n",
        "  def inv(A):\n",
        "    return np.linalg.inv(A) #Matriz inversa de la matriz A\n",
        "  def trans(A):\n",
        "    return A.getT()         #Transpuesta de la matriz A\n",
        "  def prod(A,B):\n",
        "    return np.dot(A,B)      #Producto punto entrelos vectores a y B\n",
        "\n",
        "  xlen = len(x)             #Calcula la longitud del vector x\n",
        "  ylen = len(y)\n",
        "  one = np.ones((xlen,n+1),dtype=int)  #Matriz de unos de dimensiones (xlen,n+1)\n",
        "  c1=one[:,[1]]                        #Seleccionamos solo la columna 1 de la matriz one\n",
        "  xT=np.matrix(x)                      #Comvierte los datos a una matriz de numpy\n",
        "  yT=np.matrix(y)                      #Comvierte los datos a una matriz de numpy\n",
        "  c2=xT.getT()\n",
        "  c3=np.power(c2,2)                    #Eleva al cuadrado los elementos de la matriz c2\n",
        "  c4=np.power(c2,3)\n",
        "  c5=np.power(c2,4)\n",
        "  A=np.hstack([c1,c2,c3,c4])           #Agrupa las columnas c1, c2, c3, en una matriz A\n",
        "  ajuste = prod(prod(inv(prod(trans(A),A)),trans(A)),trans(yT))  #La funcion prod realiza los productos de las matrices que recibe como argumentos\n",
        "  print(ajuste)\n",
        "\n",
        "x=[1.0,-2.0,3.0,4.0]                   #Datos tomados del libro Grossman Stanley\n",
        "y=[4.0,5.0,-1.0,1.0]\n",
        "\n",
        "polyfit2(x,y,2)                        #El resultado es el polinomio y=3.75  -0.81x  - 0.4x^2\n",
        "print(\"Grafica 1 polinomio grado 2\")\n",
        "plt.scatter(x,y)\n",
        "x = np.arange(-6,6,0.2)\n",
        "y = 3.75 -0.81060606*x -0.03787879*np.power(x,2)\n",
        "plt.plot(x,y)\n",
        "plt.show()\n",
        "\n",
        "########################segunda grafica#######################################\n",
        "print(\"Grafica 2 polinomio grado 3\")\n",
        "x=[1.0,-2.0,3.0,4.0]                   #Datos tomados del libro Grossman Stanley\n",
        "y=[4.0,5.0,-1.0,1.0]\n",
        "\n",
        "plt.scatter(x,y)\n",
        "x = np.arange(-6,6,0.2)\n",
        "y = 7.13333333 -2.37777778*x -1.07777778*np.power(x,2) +0.322222228*np.power(x,3)\n",
        "plt.plot(x,y)\n",
        "plt.show()\n",
        "##############################################################################\n",
        "print(\"Grafica 3 polinomio grado 4\")\n",
        "x=[1.0,-2.0,3.0,4.0]                   #Datos tomados del libro Grossman Stanley\n",
        "y=[4.0,5.0,-1.0,1.0]\n",
        "\n",
        "plt.scatter(x,y)\n",
        "x = np.arange(-6,6,0.2)\n",
        "y = 6.18212891 -1.04199219*x -0.95471191*np.power(x,2) +0.02203369*np.power(x,3) +0.05194092*np.power(x,3) \n",
        "plt.plot(x,y)\n",
        "plt.show()\n",
        "\n",
        "#Se observa que la curva se adapta mejor a un polinomio grado 3 \"Grafica2\" dada por los valores \n",
        "#Y =  7.13333333 -2.37777778x -1.07777778x^2 -1.07777778x^3\n",
        "#se ajusta a los 4 puntos dados como referencia a diferencia de una anterior y una despues"
      ],
      "execution_count": 0,
      "outputs": []
    }
  ]
}